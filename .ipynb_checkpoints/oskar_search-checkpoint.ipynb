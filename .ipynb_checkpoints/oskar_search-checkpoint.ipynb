{
 "cells": [
  {
   "cell_type": "code",
   "execution_count": 1,
   "id": "24fb6cc1-3f5e-4503-ab62-5f44f496cf2a",
   "metadata": {},
   "outputs": [],
   "source": [
    "import pandas as pd\n",
    "import multiprocessing as mp\n",
    "import os"
   ]
  },
  {
   "cell_type": "code",
   "execution_count": 10,
   "id": "7c1fe489-0fb6-49a2-97f6-56485a7131f3",
   "metadata": {},
   "outputs": [],
   "source": [
    "df=pd.read_csv(\"phylogenetic_data_with_substitutions.tsv\",sep=\"\\t\")"
   ]
  },
  {
   "cell_type": "code",
   "execution_count": 14,
   "id": "342c8111-a03d-493c-924e-307e426d8abd",
   "metadata": {},
   "outputs": [],
   "source": [
    "!mkdir -p hmmsearch_results"
   ]
  },
  {
   "cell_type": "code",
   "execution_count": 15,
   "id": "b01378ce-1389-4d64-af46-dfa1332c1518",
   "metadata": {},
   "outputs": [],
   "source": [
    "from pathlib import Path\n",
    "from typing import Iterable, List, TextIO, Union\n",
    "import gzip\n",
    "import io\n",
    "\n",
    "\n",
    "def extract_target_names(\n",
    "    hmmer_output: Union[str, Path],\n",
    "    *,\n",
    "    unique: bool = False\n",
    ") -> List[str]:\n",
    "    \"\"\"\n",
    "    Extract every ‘target name’ from an HMMER output file.\n",
    "\n",
    "    Parameters\n",
    "    ----------\n",
    "    hmmer_output : str or pathlib.Path\n",
    "        Path to a hmmsearch/hmmscan screen, --tblout or --domtblout file.\n",
    "    unique : bool, optional\n",
    "        If True, de-duplicates while preserving the order of first appearance.\n",
    "\n",
    "    Returns\n",
    "    -------\n",
    "    List[str]\n",
    "        A list of target names (strings).  Order matches the file.\n",
    "    \"\"\"\n",
    "    names: List[str] = []\n",
    "    with open(hmmer_output) as fh:\n",
    "        for ln in fh:\n",
    "            if ln.startswith(\"#\") or not ln.strip():\n",
    "                continue                      # ignore headers / blank lines\n",
    "            names.append(ln.split()[0])       # first column = target name\n",
    "\n",
    "    if unique:\n",
    "        seen = set()\n",
    "        names = [n for n in names if not (n in seen or seen.add(n))]\n",
    "\n",
    "    return set(names)\n"
   ]
  },
  {
   "cell_type": "code",
   "execution_count": 16,
   "id": "2a1282ce-5254-4296-b929-1a969e305f56",
   "metadata": {},
   "outputs": [],
   "source": [
    "## run hmmsearch with OSK and LOTUS domain HMMs obtained from https://github.com/extavourlab/Oskar_Evolution/tree/main\n",
    "## returns a set of OSK+LOTUS+ hits as putative oskars\n",
    "def get_oskars(a):\n",
    "    try:\n",
    "        if 'GCA_' in a or 'GCF_' in a:\n",
    "            f=f\"../ncbi_dataset/data/{a}/protein_longest.faa\"\n",
    "        else:\n",
    "            f=f\"/net/bos-nfsisilon/ifs/rc_labs/extavour_lab/rkapoor/IF_project_iteration2/TSA_transdec/{a}/{a}.fasta.transdecoder.pep\"\n",
    "        if f'{a}_LOTUS' not in os.listdir(f'hmmsearch_results'):\n",
    "            !singularity exec /cvmfs/singularity.galaxyproject.org/h/m/hmmer:3.4--hdbdd923_2 hmmsearch --domtblout \"hmmsearch_results/\"\"$a\"\"_LOTUS\" -E .05 'LOTUS_CONSENSUS.hmm' \"$f\" \n",
    "        if f'{a}_OSK' not in os.listdir(f'hmmsearch_results'):\n",
    "            !singularity exec /cvmfs/singularity.galaxyproject.org/h/m/hmmer:3.4--hdbdd923_2 hmmsearch --domtblout \"hmmsearch_results/\"\"$a\"\"_OSK\" -E .05 'OSK_CONSENSUS.hmm' \"$f\" \n",
    "        LOTUS=extract_target_names(f\"hmmsearch_results/{a}_LOTUS\")\n",
    "        OSK=extract_target_names(f\"hmmsearch_results/{a}_OSK\")\n",
    "        return OSK&LOTUS\n",
    "    except:\n",
    "        f=open('fails.txt','a')\n",
    "        f.write(a+\"\\n\")\n",
    "        f.close()\n",
    "        "
   ]
  },
  {
   "cell_type": "code",
   "execution_count": 18,
   "id": "add0293e-a696-44ee-a9d5-7f39b10df630",
   "metadata": {
    "tags": []
   },
   "outputs": [],
   "source": [
    "## make an insect-only dataframe and populate it with oskar accessions\n",
    "dfi=df[df['class']=='Insecta']\n",
    "##substitute clogmia for more recent genome\n",
    "dfi.loc[dfi[dfi.species.str.contains('Clogmia')].index.values[0],'NCBI accession']=\"GCA_022818195.1\"\n",
    "dfi=dfi.set_index(\"NCBI accession\")\n",
    "td=list(dfi.index)\n",
    "\n",
    "with mp.Pool(30) as pool:\n",
    "    result=pool.map(get_oskars,td)\n",
    "result={x:y for x,y in zip(td, result)}\n",
    "for index, row in dfi.iterrows():\n",
    "    dfi.loc[index,'oskar_accessions']=str(result[index])"
   ]
  },
  {
   "cell_type": "code",
   "execution_count": 33,
   "id": "550b5f0b-acbe-4ef0-b00c-0b7013edf850",
   "metadata": {},
   "outputs": [],
   "source": [
    "## submit unannotated genomes to augustus webserver, then deposit in ncbi_dataset/data folder \n",
    "unannotated=['GCA_022818195.1',\n",
    " 'GCA_964304675.1',\n",
    " 'GCA_045786645.1',\n",
    " 'GCA_000149185.1',\n",
    " 'GCA_964258955.1',\n",
    " 'GCA_039877355.1',\n",
    " 'GCA_029207805.1']\n",
    "##Update busco scores for oskar table\n",
    "for x in unannotated:\n",
    "    !sh run_busco_annotated_genome.sh \"$x\"\n",
    "for x in unannotated:\n",
    "    f=open(f\"/n/netscratch/extavour_lab/Everyone/Rishabh/BUSCO_outputs/{x}/short_summary.specific.arthropoda_odb12.{x}.txt\",\"r\").readlines()\n",
    "    b=float([x for x in f if \"C:\" in x][0].split(\"S:\")[1].split(\"%\")[0])\n",
    "    dfi.loc[x,'BUSCO_complete_single_copy']=b"
   ]
  },
  {
   "cell_type": "code",
   "execution_count": 38,
   "id": "5de2fdb1-c37b-4884-9c75-3e9b72c15ef2",
   "metadata": {},
   "outputs": [],
   "source": [
    "dfi['oskar_accessions']=dfi['oskar_accessions'].replace(\"set()\",\"\")"
   ]
  },
  {
   "cell_type": "code",
   "execution_count": 46,
   "id": "57d924e6-1031-4f6b-a2b0-f338b8f06c11",
   "metadata": {},
   "outputs": [],
   "source": [
    "## write oskars to output fasta\n",
    "f=open('oskar_proteins.fa','w')\n",
    "import ast\n",
    "from Bio import SeqIO\n",
    "\n",
    "for index, row in dfi.iterrows():\n",
    "    a=row['oskar_accessions']\n",
    "    if a!='':\n",
    "        a=ast.literal_eval(a)\n",
    "        for ai in a:\n",
    "            if 'GCA_' in index or 'GCF_' in index:\n",
    "                fa=f\"../ncbi_dataset/data/{index}/protein_longest.faa\"\n",
    "            else:\n",
    "                fa=f\"/net/bos-nfsisilon/ifs/rc_labs/extavour_lab/rkapoor/IF_project_iteration2/TSA_transdec/{index}/{index}.fasta.transdecoder.pep\"\n",
    "\n",
    "            seq_dict = SeqIO.to_dict(SeqIO.parse(fa, \"fasta\"))\n",
    "            n=ai+\" \"+row.species\n",
    "            f.write(f\">{n}\\n\")\n",
    "            s=str(seq_dict[ai].seq)\n",
    "            f.write(s+\"\\n\")\n",
    "f.close()\n"
   ]
  },
  {
   "cell_type": "code",
   "execution_count": 58,
   "id": "88aaae30-a729-4e83-9509-6053c9c51137",
   "metadata": {},
   "outputs": [],
   "source": [
    "df_blondel=pd.read_csv(\"blondel_tableS5.csv\",index_col='species')\n",
    "dfb=df_blondel.loc[list(set(dfi.species)&set(df_blondel.index)),:]\n",
    "hits_by_idx = dfb.groupby(level=0)['filtered_hits'].sum()"
   ]
  },
  {
   "cell_type": "code",
   "execution_count": 73,
   "id": "4b858faa-de1d-4a6f-b1f3-f7670a09fcba",
   "metadata": {},
   "outputs": [],
   "source": [
    "for index, row in dfi.iterrows():\n",
    "    if row.species in hits_by_idx.index:\n",
    "        dfi.loc[index,'blondel_oskar_count']=hits_by_idx[row.species]\n",
    "        \n",
    "    if \"{\" in str(row.oskar_accessions) or row.blondel_oskar_count>0:\n",
    "        dfi.loc[index,'oskar_present']=True\n",
    "    elif str(row.oskar_accessions)==\"\" and str(row.blondel_oskar_count)=='nan' or row.blondel_oskar_count==0 :\n",
    "        dfi.loc[index,'oskar_present']=False\n",
    " \n",
    "        \n",
    "        "
   ]
  },
  {
   "cell_type": "code",
   "execution_count": 75,
   "id": "d3713f8e-fd8c-4595-9c49-559636025c19",
   "metadata": {},
   "outputs": [],
   "source": [
    "dfi['blondel_oskar_count']=dfi['blondel_oskar_count'].fillna('')"
   ]
  },
  {
   "cell_type": "code",
   "execution_count": 77,
   "id": "d05bcb16-2823-43a6-80f3-54db1c638f2a",
   "metadata": {},
   "outputs": [],
   "source": [
    "dfi.loc[:,['species','subs','BUSCO_complete_single_copy','family','order','oskar_accessions','blondel_oskar_count','oskar_present','iq_tree_label']].to_csv('oskar_data.tsv',sep='\\t')"
   ]
  },
  {
   "cell_type": "markdown",
   "id": "0e1d73c1-c68c-4fa0-ac5f-e63ffe2c47fa",
   "metadata": {},
   "source": [
    "## Perform Mann-Whitney comparison of BUSCO completeness by oskar status "
   ]
  },
  {
   "cell_type": "code",
   "execution_count": 37,
   "id": "cf084927-74cb-4684-b2c6-4b9576952959",
   "metadata": {},
   "outputs": [
    {
     "name": "stdout",
     "output_type": "stream",
     "text": [
      "83.2945945945946 78.09318181818182\n"
     ]
    },
    {
     "data": {
      "text/plain": [
       "MannwhitneyuResult(statistic=630.5, pvalue=0.08271598388677139)"
      ]
     },
     "execution_count": 37,
     "metadata": {},
     "output_type": "execute_result"
    }
   ],
   "source": [
    "from scipy.stats import mannwhitneyu\n",
    "osk_BUSCO=list(dfi[dfi.oskar_present==True].BUSCO_complete_single_copy)\n",
    "no_osk_BUSCO=list(dfi[dfi.oskar_present==False].BUSCO_complete_single_copy)\n",
    "import numpy as np\n",
    "print(np.mean(osk_BUSCO), np.mean(no_osk_BUSCO))\n",
    "mannwhitneyu(no_osk_BUSCO, osk_BUSCO, alternative=\"two-sided\")"
   ]
  },
  {
   "cell_type": "markdown",
   "id": "01f44917-17dd-4e1c-a790-fdb54ecb65ab",
   "metadata": {},
   "source": [
    "## TBLASTN of Phlebotomus papatasi oskar protein vs Clogmia albipunctata genome"
   ]
  },
  {
   "cell_type": "code",
   "execution_count": 5,
   "id": "dacee28c-22b1-4340-a676-2298a71c2f48",
   "metadata": {},
   "outputs": [
    {
     "name": "stdout",
     "output_type": "stream",
     "text": [
      "\n",
      "\n",
      "Building a new DB, current time: 07/11/2025 18:19:20\n",
      "New DB name:   /n/netscratch/extavour_lab/Everyone/Rishabh/clogmia_blast\n",
      "New DB title:  ncbi_dataset/data/GCA_965637365.1/GCA_965637365.1_idCloAlbi1.1_genomic.fna\n",
      "Sequence type: Nucleotide\n",
      "Keep MBits: T\n",
      "Maximum file size: 1000000000B\n",
      "Adding sequences from FASTA; added 83 sequences in 3.70707 seconds.\n"
     ]
    },
    {
     "name": "stderr",
     "output_type": "stream",
     "text": [
      "WARNING: Skipping mount /var/lib/singularity/mnt/session/etc/resolv.conf [files]: /etc/resolv.conf doesn't exist in container\n"
     ]
    }
   ],
   "source": [
    "%%bash\n",
    "singularity exec /cvmfs/singularity.galaxyproject.org/b/l/blast:2.9.0--pl526he19e7b1_7 makeblastdb -in  ncbi_dataset/data/GCA_965637365.1/GCA_965637365.1_idCloAlbi1.1_genomic.fna  -dbtype nucl -parse_seqids -out clogmia_blast"
   ]
  },
  {
   "cell_type": "code",
   "execution_count": 8,
   "id": "f64ab1a8-b209-4ad5-89a4-7ccbd00bee5a",
   "metadata": {
    "tags": []
   },
   "outputs": [
    {
     "name": "stdout",
     "output_type": "stream",
     "text": [
      "TBLASTN 2.9.0+\n",
      "\n",
      "\n",
      "Reference: Stephen F. Altschul, Thomas L. Madden, Alejandro A.\n",
      "Schaffer, Jinghui Zhang, Zheng Zhang, Webb Miller, and David J.\n",
      "Lipman (1997), \"Gapped BLAST and PSI-BLAST: a new generation of\n",
      "protein database search programs\", Nucleic Acids Res. 25:3389-3402.\n",
      "\n",
      "\n",
      "\n",
      "Database: ncbi_dataset/data/GCA_965637365.1/GCA_965637365.1_idCloAlbi1.1_genom\n",
      "ic.fna\n",
      "           83 sequences; 309,212,404 total letters\n",
      "\n",
      "\n",
      "\n",
      "Query= XP_055701593.1 maternal effect protein oskar [Phlebotomus papatasi]\n",
      "\n",
      "Length=342\n",
      "                                                                      Score        E\n",
      "Sequences producing significant alignments:                          (Bits)     Value\n",
      "\n",
      "OZ281279.1 Clogmia albipunctata genome assembly, chromosome: 2        32.7       3.8  \n",
      "\n",
      "\n",
      ">OZ281279.1 Clogmia albipunctata genome assembly, chromosome: 2\n",
      "Length=51435656\n",
      "\n",
      " Score = 32.7 bits (73),  Expect = 3.8, Method: Compositional matrix adjust.\n",
      " Identities = 17/57 (30%), Positives = 31/57 (54%), Gaps = 0/57 (0%)\n",
      " Frame = +1\n",
      "\n",
      "Query  236       TDYNRLLVLLKEMGIQAIVTTLPPIANHSYLSSMQHNWMKLNVFLRRQPLCIDICEL  292\n",
      "                 T ++ +L+LL E+     + + P I +    S++Q  W    +F++ Q LC D+C L\n",
      "Sbjct  42289309  TKWSTILILLIEVFQSGQIFSFPYI*SSLC*SAVQRPWQFPLIFVKCQKLCFDLCSL  42289479\n",
      "\n",
      "\n",
      "\n",
      "Lambda      K        H        a         alpha\n",
      "   0.324    0.139    0.423    0.792     4.96 \n",
      "\n",
      "Gapped\n",
      "Lambda      K        H        a         alpha    sigma\n",
      "   0.267   0.0410    0.140     1.90     42.6     43.6 \n",
      "\n",
      "Effective search space used: 23188745250\n",
      "\n",
      "\n",
      "  Database: ncbi_dataset/data/GCA_965637365.1/GCA_965637365.1_idCloAlbi1.1_genom\n",
      "ic.fna\n",
      "    Posted date:  Jul 11, 2025  6:19 PM\n",
      "  Number of letters in database: 309,212,404\n",
      "  Number of sequences in database:  83\n",
      "\n",
      "\n",
      "\n",
      "Matrix: BLOSUM62\n",
      "Gap Penalties: Existence: 11, Extension: 1\n",
      "Neighboring words threshold: 13\n",
      "Window for multiple hits: 40\n"
     ]
    },
    {
     "name": "stderr",
     "output_type": "stream",
     "text": [
      "WARNING: Skipping mount /var/lib/singularity/mnt/session/etc/resolv.conf [files]: /etc/resolv.conf doesn't exist in container\n"
     ]
    }
   ],
   "source": [
    "%%bash\n",
    "singularity exec /cvmfs/singularity.galaxyproject.org/b/l/blast:2.9.0--pl526he19e7b1_7 tblastn -query \"Phlebotomus.fasta\"  -db clogmia_blast"
   ]
  },
  {
   "cell_type": "code",
   "execution_count": 31,
   "id": "df84f0f0-d473-4e3b-b33a-c94deab89d8f",
   "metadata": {},
   "outputs": [],
   "source": [
    "osk_BUSCO=list(dfi[dfi.oskar_present==True].BUSCO_complete_single_copy)\n",
    "no_osk_BUSCO=list(dfi[dfi.oskar_present==False].BUSCO_complete_single_copy)"
   ]
  },
  {
   "cell_type": "code",
   "execution_count": null,
   "id": "ea6bc9d3-89ec-49f2-8a7a-d15ca23560f6",
   "metadata": {},
   "outputs": [],
   "source": []
  }
 ],
 "metadata": {
  "kernelspec": {
   "display_name": "Python [conda env:.conda-jupyter_3.6]",
   "language": "python",
   "name": "conda-env-.conda-jupyter_3.6-py"
  },
  "language_info": {
   "codemirror_mode": {
    "name": "ipython",
    "version": 3
   },
   "file_extension": ".py",
   "mimetype": "text/x-python",
   "name": "python",
   "nbconvert_exporter": "python",
   "pygments_lexer": "ipython3",
   "version": "3.6.13"
  }
 },
 "nbformat": 4,
 "nbformat_minor": 5
}
