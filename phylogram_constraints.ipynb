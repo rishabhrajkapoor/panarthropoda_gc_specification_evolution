{
 "cells": [
  {
   "cell_type": "code",
   "execution_count": 2,
   "id": "fbda8c1f-d8df-4359-a4d1-93059918950b",
   "metadata": {},
   "outputs": [
    {
     "name": "stderr",
     "output_type": "stream",
     "text": [
      "/n/home11/rkapoor/.conda/envs/rishabh/lib/python3.9/site-packages/scipy/__init__.py:146: UserWarning: A NumPy version >=1.16.5 and <1.23.0 is required for this version of SciPy (detected version 1.23.5\n",
      "  warnings.warn(f\"A NumPy version >={np_minversion} and <{np_maxversion}\"\n"
     ]
    }
   ],
   "source": [
    "import pandas as pd\n",
    "from ete3 import NCBITaxa\n",
    "from ete3 import Tree"
   ]
  },
  {
   "cell_type": "code",
   "execution_count": 8,
   "id": "1258f30c-ae92-4fb2-8ad0-63a6da0bd8bb",
   "metadata": {},
   "outputs": [],
   "source": [
    "##Load df with all species in dataset\n",
    "df_all=pd.read_csv(\"all_species_annotated.tsv\",sep='\\t', index_col=0)\n"
   ]
  },
  {
   "cell_type": "code",
   "execution_count": 17,
   "id": "5a23493e-606d-49f1-bbfd-6fc2f8c345f5",
   "metadata": {},
   "outputs": [],
   "source": [
    "## helper function to extract taxonomic information with ete3\n",
    "## written by RK with ChatGPT\n",
    "from ete3 import NCBITaxa\n",
    "\n",
    "# You only need to instantiate NCBITaxa once per session.\n",
    "# If you have never run it before (or want an update), call:\n",
    "#   NCBITaxa().update_taxonomy_database()\n",
    "ncbi = NCBITaxa()\n",
    "\n",
    "def get_ranks(binomial: str, ranks=(\"class\", \"order\", \"family\",\"phylum\",\"subphylum\",\"subfamily\",\"superfamily\",\"suborder\",'infraorder','subclass','subphylum','subfamily')) -> dict:\n",
    "    \"\"\"\n",
    "    Return the specified taxonomic ranks for a binomial name.\n",
    "\n",
    "    Parameters\n",
    "    ----------\n",
    "    binomial : str\n",
    "        Two-part scientific name, e.g. 'Homo sapiens'.\n",
    "    ranks : iterable of str, optional\n",
    "        Taxonomic ranks to retrieve (default: class, order, family).\n",
    "\n",
    "    Returns\n",
    "    -------\n",
    "    dict {rank: name or None}\n",
    "        Dictionary containing the requested ranks. If the name is not\n",
    "        found, or a rank is absent in the lineage, its value is None.\n",
    "    \"\"\"\n",
    "    # Translate the name → taxid\n",
    "    name2taxid = ncbi.get_name_translator([binomial])\n",
    "    if not name2taxid:\n",
    "        return {rank: None for rank in ranks}\n",
    "\n",
    "    taxid = name2taxid[binomial][0]\n",
    "\n",
    "    # Full lineage & rank map\n",
    "    lineage = ncbi.get_lineage(taxid)\n",
    "    rank_map = ncbi.get_rank(lineage)\n",
    "    name_map = ncbi.get_taxid_translator(lineage)\n",
    "\n",
    "    # Extract desired ranks\n",
    "    result = {}\n",
    "    for rank in ranks:\n",
    "        # Find the first taxid in the lineage whose rank matches\n",
    "        taxids = [tid for tid, r in rank_map.items() if r == rank]\n",
    "        result[rank] = name_map[taxids[0]] if taxids else None\n",
    "    return result\n",
    "\n"
   ]
  },
  {
   "cell_type": "code",
   "execution_count": 18,
   "id": "4f5338ba-0d42-4beb-ac0a-d4fe634a08ca",
   "metadata": {},
   "outputs": [],
   "source": [
    "for index, row in df_all.iterrows():\n",
    "    rank=get_ranks(index)\n",
    "    if str(rank['order'])!='None':\n",
    "        for x in rank:\n",
    "            df_all.loc[index,x]=rank[x]\n",
    "    df_all.loc[index,'subfamily']=rank['subfamily']\n"
   ]
  },
  {
   "cell_type": "code",
   "execution_count": 23,
   "id": "6a30315c-1156-4757-b5f1-2dbd00f3e044",
   "metadata": {},
   "outputs": [],
   "source": [
    "for index, row in df_fil.iterrows():\n",
    "    rank=get_ranks(index)\n",
    "    if str(rank['order'])!='None':\n",
    "        for x in rank:\n",
    "            df_fil.loc[index,x]=rank[x]\n"
   ]
  },
  {
   "cell_type": "code",
   "execution_count": 78,
   "id": "e2c2aec0-c3ee-4783-95d5-34d7093e1ee7",
   "metadata": {
    "tags": []
   },
   "outputs": [],
   "source": [
    "\n",
    "def annotate_tree(t):\n",
    "\"\"\"\n",
    "takes an ete3 tree object\n",
    "annotates each leaf with taxonomic features\n",
    "\"\"\"\n",
    "    for leaf in t:\n",
    "        taxdict=get_ranks(leaf.name.split(\"_\")[0])\n",
    "        leaf.add_features(phylum=taxdict['phylum'])\n",
    "        if taxdict['order']=='Psocoptera' or taxdict['order']=='Phthiraptera':\n",
    "            leaf.add_features(order='Psocodea')\n",
    "        else:\n",
    "            leaf.add_features(order=taxdict['order'])\n",
    "        leaf.add_features(classt=taxdict['class'])\n",
    "        leaf.add_features(family=taxdict['family'])\n",
    "        leaf.add_features(subfamily=taxdict['subfamily'])\n",
    "        leaf.add_features(subphylum=taxdict['subphylum'])\n",
    "        leaf.add_features(superfamily=taxdict['superfamily'])\n",
    "        leaf.add_features(suborder=taxdict['suborder'])\n",
    "        leaf.add_features(infraorder=taxdict['infraorder'])\n",
    "    return t\n"
   ]
  },
  {
   "cell_type": "code",
   "execution_count": 12,
   "id": "6de383ac-d353-4f07-a4da-5884315023f8",
   "metadata": {},
   "outputs": [],
   "source": [
    "## written by RK with chatgpt\n",
    "def collapse_monophyletic_rank(tree, attr=\"order\"):\n",
    "    \"\"\"\n",
    "    Collapse every monophyletic clade whose leaves all share the same\n",
    "    value for `attr` (e.g. 'order') and label the remaining leaf with\n",
    "    that value.\n",
    "\n",
    "    Parameters\n",
    "    ----------\n",
    "    tree : ete3.Tree  – the tree to modify in place\n",
    "    attr : str        – the node feature to check (default: 'order')\n",
    "\n",
    "    Returns\n",
    "    -------\n",
    "    ete3.Tree\n",
    "        The same tree object, after collapsing.\n",
    "    \"\"\"\n",
    "    for node in tree.traverse(\"postorder\"):\n",
    "        # Skip leaves – nothing to collapse.\n",
    "        if node.is_leaf():\n",
    "            continue\n",
    "\n",
    "        # Collect the attribute values found in this subtree.\n",
    "        orders_here = {getattr(leaf, attr) for leaf in node.iter_leaves()}\n",
    "\n",
    "        # If exactly one unique value is present, clade is monophyletic for that value.\n",
    "        if len(orders_here) == 1:\n",
    "            order_name = orders_here.pop()\n",
    "\n",
    "            # ↓ Remove all current descendants to make `node` a leaf.\n",
    "            for child in list(node.children):\n",
    "                child.detach()          # drops child subtrees\n",
    "\n",
    "            # Label the new leaf.\n",
    "            node.name = order_name\n",
    "            node.add_features(**{attr: order_name})\n",
    "    for node in tree:\n",
    "        name=getattr(node, attr)\n",
    "        node.name=name\n",
    "\n",
    "    return tree\n"
   ]
  },
  {
   "cell_type": "markdown",
   "id": "524bd8f8-7de3-4be5-acfd-9efe43cc8af6",
   "metadata": {},
   "source": [
    "## Insecta order-level tree\n",
    "Misof 2014"
   ]
  },
  {
   "cell_type": "code",
   "execution_count": 106,
   "id": "192b1221-7082-4c2c-b982-90e660371f80",
   "metadata": {},
   "outputs": [],
   "source": [
    "t=Tree('constraint_trees/Misof_2014.nwk')\n",
    "t=annotate_tree(t)\n",
    "keep=[x for x in t if x.classt=='Insecta']\n",
    "t.prune(keep)"
   ]
  },
  {
   "cell_type": "code",
   "execution_count": 108,
   "id": "df92b5fb-2ee9-4baf-bf4e-8188a5df8acf",
   "metadata": {},
   "outputs": [],
   "source": [
    "t=collapse_monophyletic_orders(t)"
   ]
  },
  {
   "cell_type": "code",
   "execution_count": 115,
   "id": "0c3a7808-f57d-4dd4-a57b-014ec5cf2aed",
   "metadata": {},
   "outputs": [],
   "source": [
    "a=t&'Zorotypus_caudelli'\n",
    "a.name='Zoraptera'\n",
    "a=t&'Tanzaniophasma_sp._AD-2013'\n",
    "a.name='Mantophasmatodea'\n"
   ]
  },
  {
   "cell_type": "code",
   "execution_count": 120,
   "id": "5a3627a8-1552-488e-b4a9-a1d6f609c2f4",
   "metadata": {},
   "outputs": [],
   "source": [
    "keep=list(set(df_all[df_all['class']=='Insecta'].order))\n",
    "t.prune(keep)"
   ]
  },
  {
   "cell_type": "code",
   "execution_count": 11,
   "id": "2c57009a-b55f-4e1a-bb1d-ba127a53c8e3",
   "metadata": {},
   "outputs": [
    {
     "name": "stdout",
     "output_type": "stream",
     "text": [
      "\n",
      "                              /-Lepidoptera\n",
      "                           /-|\n",
      "                          |   \\-Trichoptera\n",
      "                        /-|\n",
      "                       |  |   /-Diptera\n",
      "                       |   \\-|\n",
      "                       |      \\-Antliophora\n",
      "                     /-|\n",
      "                    |  |      /-Coleoptera\n",
      "                    |  |   /-|\n",
      "                    |  |  |   \\-Strepsiptera\n",
      "                  /-|   \\-|\n",
      "                 |  |     |   /-Raphidioptera\n",
      "                 |  |      \\-|\n",
      "               /-|  |         \\-Megaloptera\n",
      "              |  |  |\n",
      "              |  |   \\-Hymenoptera\n",
      "            /-|  |\n",
      "           |  |   \\-Psocodea\n",
      "           |  |\n",
      "           |  |   /-Hemiptera\n",
      "         /-|   \\-|\n",
      "        |  |      \\-Thysanoptera\n",
      "        |  |\n",
      "        |  |   /-Dermaptera\n",
      "        |  |  |\n",
      "        |   \\-|   /-Orthoptera\n",
      "      /-|     |  |\n",
      "     |  |      \\-|      /-Blattodea\n",
      "     |  |        |   /-|\n",
      "     |  |         \\-|   \\-Mantodea\n",
      "   /-|  |           |\n",
      "  |  |  |            \\-Phasmatodea\n",
      "  |  |  |\n",
      "--|  |   \\-Odonata\n",
      "  |  |\n",
      "  |   \\-Zygentoma\n",
      "  |\n",
      "   \\-Archaeognatha\n"
     ]
    }
   ],
   "source": [
    "print(t)"
   ]
  },
  {
   "cell_type": "code",
   "execution_count": 121,
   "id": "f3733199-1636-4170-a426-edcaa7ccd63b",
   "metadata": {},
   "outputs": [],
   "source": [
    "t.write(format=9,outfile=\"constraint_trees/Insecta_Misof_order_constraints.nwk\")"
   ]
  },
  {
   "cell_type": "markdown",
   "id": "3a4a7bb8-8c51-4cf2-bc9a-c1c1c4753b1e",
   "metadata": {},
   "source": [
    "## Coleoptera \n",
    "Zhang 2018"
   ]
  },
  {
   "cell_type": "code",
   "execution_count": 13,
   "id": "115549df-4fbe-44be-805d-952b1973bc87",
   "metadata": {},
   "outputs": [],
   "source": [
    "t=Tree('constraint_trees/Coleoptera_Zhang_2018.nwk')"
   ]
  },
  {
   "cell_type": "code",
   "execution_count": 14,
   "id": "e45d63a9-7370-4300-9dab-cd71b0e8484f",
   "metadata": {},
   "outputs": [],
   "source": [
    "t=annotate_tree(t)"
   ]
  },
  {
   "cell_type": "code",
   "execution_count": 15,
   "id": "d8b0f4fd-889a-4326-81c4-b3a585612f37",
   "metadata": {},
   "outputs": [],
   "source": [
    "keep=[x for x in t if x.order=='Coleoptera' and x.family in (set(df_all[df_all.order=='Coleoptera'].family))]"
   ]
  },
  {
   "cell_type": "code",
   "execution_count": 16,
   "id": "0b330b9f-6108-44b1-a081-19eb4a0f33f2",
   "metadata": {},
   "outputs": [],
   "source": [
    "t.prune(keep)"
   ]
  },
  {
   "cell_type": "code",
   "execution_count": 71,
   "id": "869b5da6-b6e1-4180-8d5e-5175036333cd",
   "metadata": {},
   "outputs": [
    {
     "name": "stdout",
     "output_type": "stream",
     "text": [
      "\n",
      "         /-Carabidae\n",
      "      /-|\n",
      "   /-|   \\-Dytiscidae\n",
      "  |  |\n",
      "  |   \\-Gyrinidae\n",
      "--|\n",
      "  |   /-Lampyridae\n",
      "  |  |\n",
      "   \\-|      /-Hydrophilidae\n",
      "     |   /-|\n",
      "     |  |   \\-Passalidae\n",
      "      \\-|\n",
      "        |   /-Dermestidae\n",
      "        |  |\n",
      "         \\-|      /-Chrysomelidae\n",
      "           |   /-|\n",
      "           |  |   \\-Curculionidae\n",
      "            \\-|\n",
      "              |   /-Meloidae\n",
      "               \\-|\n",
      "                  \\-Tenebrionidae\n"
     ]
    }
   ],
   "source": [
    "t=collapse_monophyletic_rank(t,'family')\n",
    "print(t)"
   ]
  },
  {
   "cell_type": "code",
   "execution_count": 18,
   "id": "a6271195-1ee1-40c9-ba15-7c8a971a45f3",
   "metadata": {},
   "outputs": [],
   "source": [
    "t.write(outfile='constraint_trees/Coleoptera_Zhang_2018_family_constraints.nwk', format=9)"
   ]
  },
  {
   "cell_type": "code",
   "execution_count": 19,
   "id": "d6327264-95fd-418e-b0fd-64db9203a866",
   "metadata": {},
   "outputs": [],
   "source": [
    "t=Tree('constraint_trees/Coleoptera_Zhang_2018_family_constraints.nwk')"
   ]
  },
  {
   "cell_type": "markdown",
   "id": "a963b3eb-41f6-465e-b1bf-8489932b53a8",
   "metadata": {},
   "source": [
    "## Orthoptera\n",
    "Chang 2020"
   ]
  },
  {
   "cell_type": "code",
   "execution_count": 101,
   "id": "d17ed618-4c75-49a0-a84e-279388701fbd",
   "metadata": {},
   "outputs": [],
   "source": [
    "t=Tree('constraint_trees/Orthoptera_Chang_2020.nwk')"
   ]
  },
  {
   "cell_type": "code",
   "execution_count": 102,
   "id": "f653ccf9-e40b-4a2c-83c2-4dfbaa865a7e",
   "metadata": {},
   "outputs": [],
   "source": [
    "t=annotate_tree(t)"
   ]
  },
  {
   "cell_type": "code",
   "execution_count": 103,
   "id": "bce537be-67f4-4f01-a7e0-35d5000fbd6b",
   "metadata": {},
   "outputs": [],
   "source": [
    "keep=[x for x in t if x.order=='Orthoptera' and x.family in set(df_all[df_all.order=='Orthoptera'].family)]"
   ]
  },
  {
   "cell_type": "code",
   "execution_count": 104,
   "id": "eb239e61-9cca-4f45-861b-75e602c599aa",
   "metadata": {},
   "outputs": [],
   "source": [
    "t.prune(keep)"
   ]
  },
  {
   "cell_type": "code",
   "execution_count": 105,
   "id": "902e1b62-9cf1-46d2-87fa-0d2f42d2298f",
   "metadata": {},
   "outputs": [
    {
     "name": "stdout",
     "output_type": "stream",
     "text": [
      "\n",
      "      /-Gryllidae\n",
      "   /-|\n",
      "--|   \\-Tettigoniidae\n",
      "  |\n",
      "   \\-Acrididae\n"
     ]
    }
   ],
   "source": [
    "t=collapse_monophyletic_rank(t,'family')\n",
    "print(t)"
   ]
  },
  {
   "cell_type": "code",
   "execution_count": 106,
   "id": "16d46e79-7535-4f6a-8b27-c9d55f232c48",
   "metadata": {},
   "outputs": [],
   "source": [
    "t.write(outfile='constraint_trees/Orthoptera_Chang_2020_family_constraints.nwk', format=9)"
   ]
  },
  {
   "cell_type": "markdown",
   "id": "b61922bf-96ef-4f24-9bbc-07246d2d27ca",
   "metadata": {},
   "source": [
    "## Diptera\n",
    "Wiegmann 2020"
   ]
  },
  {
   "cell_type": "code",
   "execution_count": 257,
   "id": "73adbc2c-6a1f-46cf-a3d5-6a14f1105a70",
   "metadata": {},
   "outputs": [],
   "source": [
    "t=Tree('constraint_trees/Diptera_Wiegmann_2011.nwk')"
   ]
  },
  {
   "cell_type": "code",
   "execution_count": 147,
   "id": "29f734c0-9ae7-43df-8fa0-3a669e97c562",
   "metadata": {},
   "outputs": [],
   "source": [
    "t=annotate_tree(t)\n",
    "keep=[x for x in t if x.family in set(df_all[df_all.order=='Diptera'].family)]\n",
    "t.prune(keep)"
   ]
  },
  {
   "cell_type": "code",
   "execution_count": 155,
   "id": "d8f99cf7-a6ec-4c79-aae9-32b1cbaf2803",
   "metadata": {},
   "outputs": [
    {
     "name": "stdout",
     "output_type": "stream",
     "text": [
      "\n",
      "            /-Chironomidae\n",
      "         /-|\n",
      "      /-|   \\-Simuliidae\n",
      "     |  |\n",
      "   /-|   \\-Culicidae\n",
      "  |  |\n",
      "  |   \\-Psychodidae\n",
      "  |\n",
      "--|      /-Sciaridae\n",
      "  |   /-|\n",
      "  |  |   \\-Cecidomyiidae\n",
      "  |  |\n",
      "   \\-|   /-Phoridae\n",
      "     |  |\n",
      "     |  |      /-Drosophilidae\n",
      "      \\-|   /-|\n",
      "        |  |  |   /-Hippoboscidae\n",
      "        |  |   \\-|\n",
      "         \\-|     |   /-Muscidae\n",
      "           |      \\-|\n",
      "           |         \\-Calliphoridae\n",
      "           |\n",
      "            \\-Tephritidae\n"
     ]
    }
   ],
   "source": [
    "t=collapse_monophyletic_rank(t,'family')\n",
    "print(t)"
   ]
  },
  {
   "cell_type": "code",
   "execution_count": 293,
   "id": "96ef7288-868b-4b95-808b-1f8afecd63a2",
   "metadata": {},
   "outputs": [],
   "source": [
    "t.write(outfile='constraint_trees/Diptera_Wiegmann_2011_family_constraints.nwk', format=9)"
   ]
  },
  {
   "cell_type": "markdown",
   "id": "2c138696-b3b4-4728-a72c-a1409a0da5f1",
   "metadata": {},
   "source": [
    "## Lepidoptera\n",
    "Kawahara 2019"
   ]
  },
  {
   "cell_type": "code",
   "execution_count": 288,
   "id": "75e0a0b6-09b4-446d-be9a-8503195294ae",
   "metadata": {},
   "outputs": [],
   "source": [
    "t=Tree('constraint_trees/Lepidoptera_Kawahara_2019.nwk')\n",
    "\n"
   ]
  },
  {
   "cell_type": "code",
   "execution_count": 289,
   "id": "8f5f1299-ce3b-463d-af87-79a0db8c4246",
   "metadata": {},
   "outputs": [],
   "source": [
    "t=annotate_tree(t)"
   ]
  },
  {
   "cell_type": "code",
   "execution_count": 290,
   "id": "a5618fdb-575c-4905-b02e-8cb5758b92f2",
   "metadata": {},
   "outputs": [],
   "source": [
    "keep=[x for x in t if x.family in set(df_all[df_all.order=='Lepidoptera'].family)]\n",
    "t.prune(keep)"
   ]
  },
  {
   "cell_type": "code",
   "execution_count": 291,
   "id": "c40972c7-ca83-4227-a700-845cbac3e26f",
   "metadata": {},
   "outputs": [
    {
     "data": {
      "text/plain": [
       "set()"
      ]
     },
     "execution_count": 291,
     "metadata": {},
     "output_type": "execute_result"
    }
   ],
   "source": [
    "set(df_all[df_all.order=='Lepidoptera'].family)-set([x.family for x in t])"
   ]
  },
  {
   "cell_type": "code",
   "execution_count": 292,
   "id": "254c6c72-3417-4ea7-a9db-f8c17b49bf57",
   "metadata": {},
   "outputs": [
    {
     "name": "stdout",
     "output_type": "stream",
     "text": [
      "\n",
      "   /-Micropterigidae\n",
      "  |\n",
      "  |      /-Tortricidae\n",
      "  |     |\n",
      "  |     |      /-Gelechiidae\n",
      "  |     |     |\n",
      "--|   /-|   /-|      /-Erebidae\n",
      "  |  |  |  |  |   /-|\n",
      "  |  |  |  |  |  |   \\-Noctuidae\n",
      "  |  |  |  |   \\-|\n",
      "  |  |   \\-|     |   /-Bombycidae\n",
      "  |  |     |      \\-|\n",
      "  |  |     |         \\-Saturniidae\n",
      "   \\-|     |\n",
      "     |     |   /-Papilionidae\n",
      "     |      \\-|\n",
      "     |        |   /-Pieridae\n",
      "     |         \\-|\n",
      "     |            \\-Nymphalidae\n",
      "     |\n",
      "      \\-Hepialidae\n"
     ]
    }
   ],
   "source": [
    "t=collapse_monophyletic_rank(t,'family')\n",
    "print(t)"
   ]
  },
  {
   "cell_type": "code",
   "execution_count": 294,
   "id": "545d3a43-04c6-4c7d-af8d-1d0afd6ae213",
   "metadata": {},
   "outputs": [],
   "source": [
    "t.write(outfile='constraint_trees/Lepidoptera_Kawahara_2019_family_constraints.nwk', format=9)"
   ]
  },
  {
   "cell_type": "markdown",
   "id": "60ff6e9a-e855-430e-93e8-72ac78f48f20",
   "metadata": {},
   "source": [
    "## Hymenoptera\n",
    "Blaimer_2023"
   ]
  },
  {
   "cell_type": "code",
   "execution_count": 246,
   "id": "610e92b9-4dbd-4735-abbe-1f6a70f7cbb5",
   "metadata": {},
   "outputs": [],
   "source": [
    "import re, pathlib, sys\n",
    "# If your tree is in a file:\n",
    "tree = pathlib.Path('constraint_trees/Hymenoptera_Blaimer_2023.nwk').read_text()\n",
    "\n",
    "# Remove everything between single quotes, including the quotes\n",
    "clean = re.sub(r\"'[^']*'\", \"\", tree)\n",
    "\n",
    "# Save or print the result\n",
    "pathlib.Path(\"tree_clean.nwk\").write_text(clean)\n",
    "f=open('constraint_trees/Hymenoptera_Blaimer_2023.nwk','w')\n",
    "f.write(clean)\n",
    "f.close()"
   ]
  },
  {
   "cell_type": "code",
   "execution_count": 50,
   "id": "f324b90a-3873-4de5-be5b-162a18739dc7",
   "metadata": {},
   "outputs": [],
   "source": [
    "t=Tree('constraint_trees/Hymenoptera_Blaimer_2023.nwk')"
   ]
  },
  {
   "cell_type": "code",
   "execution_count": 54,
   "id": "9cada1c4-bb51-4144-81ca-7517539a7ac5",
   "metadata": {},
   "outputs": [],
   "source": [
    "t=annotate_tree(t)"
   ]
  },
  {
   "cell_type": "code",
   "execution_count": 262,
   "id": "41339a81-a71e-48d5-bb8f-0dd0d596061a",
   "metadata": {},
   "outputs": [],
   "source": [
    "keep=[x for x in t if x.family in set(df_all[df_all.order=='Hymenoptera'].family)]\n",
    "t.prune(keep)"
   ]
  },
  {
   "cell_type": "code",
   "execution_count": 263,
   "id": "61601bc7-5536-4275-a80e-11928af8f444",
   "metadata": {},
   "outputs": [
    {
     "name": "stdout",
     "output_type": "stream",
     "text": [
      "\n",
      "                     /-Pteromalidae\n",
      "                  /-|\n",
      "                 |  |   /-Pteromalidae\n",
      "               /-|   \\-|\n",
      "              |  |      \\-Encyrtidae\n",
      "              |  |\n",
      "            /-|   \\-Pteromalidae\n",
      "           |  |\n",
      "           |  |   /-Pteromalidae\n",
      "         /-|   \\-|\n",
      "        |  |      \\-Trichogrammatidae\n",
      "        |  |\n",
      "      /-|   \\-Pteromalidae\n",
      "     |  |\n",
      "     |  |   /-Formicidae\n",
      "   /-|   \\-|\n",
      "  |  |      \\-Apidae\n",
      "  |  |\n",
      "  |  |   /-Ichneumonidae\n",
      "--|   \\-|\n",
      "  |      \\-Braconidae\n",
      "  |\n",
      "  |      /-Tenthredinidae\n",
      "  |   /-|\n",
      "   \\-|   \\-Athaliidae\n",
      "     |\n",
      "      \\-Tenthredinidae\n"
     ]
    }
   ],
   "source": [
    "t=collapse_monophyletic_rank(t,'family')\n",
    "print(t)"
   ]
  },
  {
   "cell_type": "code",
   "execution_count": null,
   "id": "24012041-051f-45e7-bdfe-ef75b971912b",
   "metadata": {},
   "outputs": [
    {
     "name": "stdout",
     "output_type": "stream",
     "text": [
      "\n",
      "   /- /-Athaliidae_Tenthredinidae\n",
      "  |\n",
      "--|      /-Ichneumonidae\n",
      "  |   /-|\n",
      "  |  |   \\-Braconidae\n",
      "   \\-|\n",
      "     |      /-Formicidae\n",
      "     |   /-|\n",
      "      \\-|   \\-Apidae\n",
      "        |\n",
      "         \\- /-Pteromalidae_Encyrtidae_Trichogrammatidae\n"
     ]
    }
   ],
   "source": [
    "##collapsed mixed clades\n",
    "t=Tree(\"((Athaliidae_Tenthredinidae),((Ichneumonidae,Braconidae),((Formicidae,Apidae),(Pteromalidae_Encyrtidae_Trichogrammatidae))));\")\n",
    "print(t)"
   ]
  },
  {
   "cell_type": "code",
   "execution_count": 60,
   "id": "028351c0-cda3-46a4-96a2-07e52e736b14",
   "metadata": {},
   "outputs": [],
   "source": [
    "t.write(outfile='constraint_trees/Hymenoptera_Blaimer_2023_family_constraints.nwk',format=9)"
   ]
  },
  {
   "cell_type": "markdown",
   "id": "7cdac8d1-35d6-4620-be19-b8e42d87989e",
   "metadata": {},
   "source": [
    "## Drosophilidae \n",
    "Suvorov_2022"
   ]
  },
  {
   "cell_type": "code",
   "execution_count": 13,
   "id": "32d36866-4808-430b-adf4-9749da9e0388",
   "metadata": {},
   "outputs": [],
   "source": [
    "t=Tree(\"constraint_trees/Drosophilidae_Suvorov_2022.nwk\",format=1)\n",
    "for x in t:\n",
    "    x.name=x.name.replace('D_','Drosophila ')\n",
    "    if x.name=='Drosophila pseudotalamancana':\n",
    "        x.name='Drosophila gibberosa'\n",
    "keep=[x for x in t if x.name in set(df_all[df_all.family=='Drosophilidae'].index)]\n",
    "\n",
    "t.prune(keep)"
   ]
  },
  {
   "cell_type": "code",
   "execution_count": 145,
   "id": "5f033c6c-f8a1-4b39-ab11-2b4654b12347",
   "metadata": {},
   "outputs": [
    {
     "name": "stdout",
     "output_type": "stream",
     "text": [
      "\n",
      "               /-Drosophila gibberosa\n",
      "            /-|\n",
      "           |  |   /-Drosophila hydei\n",
      "           |   \\-|\n",
      "         /-|      \\-Drosophila repleta\n",
      "        |  |\n",
      "        |  |   /-Drosophila virilis\n",
      "      /-|   \\-|\n",
      "     |  |      \\-Drosophila americana\n",
      "     |  |\n",
      "   /-|  |   /-Drosophila immigrans\n",
      "  |  |   \\-|\n",
      "  |  |      \\-Drosophila funebris\n",
      "--|  |\n",
      "  |   \\-Drosophila busckii\n",
      "  |\n",
      "  |   /-Drosophila melanogaster\n",
      "   \\-|\n",
      "      \\-Drosophila willistoni\n"
     ]
    }
   ],
   "source": [
    "print(t)"
   ]
  },
  {
   "cell_type": "code",
   "execution_count": 146,
   "id": "3b2fbc82-9a56-4336-a53b-914813cddee4",
   "metadata": {},
   "outputs": [],
   "source": [
    "t.write(outfile='constraint_trees/Drosophilidae_Suvorov_2022_species_constraints.nwk',format=9)"
   ]
  },
  {
   "cell_type": "markdown",
   "id": "75831323-5c18-4415-8f18-916182a05b2b",
   "metadata": {},
   "source": [
    "Remaining constriant trees in constraint_trees were manually processed and all concatenated manually as described in SI methods to produce constraint_trees/all_combined.nwk"
   ]
  },
  {
   "cell_type": "markdown",
   "id": "6980e411-1b40-471c-8bb5-9e8a6d35b2cb",
   "metadata": {},
   "source": [
    "## All species manuscript phylogram (Figure 9 and supplementary figure 1)\n",
    "make a species-level phylogram for all species by substituting species in for ranks in the constraint tree"
   ]
  },
  {
   "cell_type": "code",
   "execution_count": 102,
   "id": "a923fcb5-ff1f-4c02-b686-6e88b185016b",
   "metadata": {},
   "outputs": [],
   "source": [
    "##load a manually concatenated newick of all constraints\n",
    "t=Tree(\"constraint_trees/all_combined.nwk\",format=1)\n"
   ]
  },
  {
   "cell_type": "code",
   "execution_count": 103,
   "id": "5365eaf2-4a3a-4105-b8fc-3c45dea8fe10",
   "metadata": {},
   "outputs": [],
   "source": [
    "for index, row in df_all.iterrows():\n",
    "    r=\";\".join([str(row[x]) for x in ['genus','family','order','class','phylum','subphylum','subfamily','superfamily','suborder','infraorder','subclass','infraorder']])\n",
    "    r=r+\";\"\n",
    "    df_all.loc[index,'c']=r"
   ]
  },
  {
   "cell_type": "code",
   "execution_count": 126,
   "id": "416e6100-abd0-4b63-9c85-97713d1a69c1",
   "metadata": {},
   "outputs": [],
   "source": [
    "##create a dictionary mapping between leaves in constraint tree and species within that leaf taxo\n",
    "name_map={}\n",
    "for x in t:\n",
    "    ns=x.name\n",
    "    l=[]\n",
    "    if '_' in ns:\n",
    "        for n in ns.split(\"_\"):\n",
    "        \n",
    "            dfi=df_all[df_all.c.str.contains(n+\";\")]\n",
    "            l.extend([x.replace(\" \",\"_\") for x in list(dfi.index)])\n",
    "    \n",
    "    else:\n",
    "        n=ns\n",
    "        dfi=df_all[df_all.c.str.contains(n+\";\")]\n",
    "        l=[x.replace(\" \",\"_\") for x in list(dfi.index)]\n",
    "    name_map[ns]=l"
   ]
  },
  {
   "cell_type": "code",
   "execution_count": 127,
   "id": "1324d0a0-b1a6-4189-95c7-da3426459401",
   "metadata": {},
   "outputs": [],
   "source": [
    "s=open(\"constraint_trees/all_combined.nwk\",\"r\").readlines()[0]\n",
    "for x in name_map:\n",
    "    p=str(name_map[x]).replace(\"'\",\"\").replace(\"[\",\"(\").replace(\"]\",\")\").replace(\" \",\"\")+x\n",
    "    s=s.replace(x,p)"
   ]
  },
  {
   "cell_type": "code",
   "execution_count": 128,
   "id": "33c1745c-19de-447a-9e55-3f9bf7d69b2b",
   "metadata": {
    "tags": []
   },
   "outputs": [],
   "source": [
    "for x in name_map:\n",
    "    p=str(name_map[x]).replace(\"'\",\"\").replace(\"[\",\"(\").replace(\"]\",\")\").replace(\" \",\"\")+x\n",
    "    s=s.replace(x,p)"
   ]
  },
  {
   "cell_type": "code",
   "execution_count": 1,
   "id": "6ae7d96e-bbb1-4d77-a2eb-df4528cc4076",
   "metadata": {},
   "outputs": [],
   "source": [
    "f=open('constraint_trees/all_combined_species.nwk','w')\n",
    "f.write(s)\n",
    "f.close()"
   ]
  }
 ],
 "metadata": {
  "kernelspec": {
   "display_name": "Python [conda env:.conda-rishabh]",
   "language": "python",
   "name": "conda-env-.conda-rishabh-py"
  },
  "language_info": {
   "codemirror_mode": {
    "name": "ipython",
    "version": 3
   },
   "file_extension": ".py",
   "mimetype": "text/x-python",
   "name": "python",
   "nbconvert_exporter": "python",
   "pygments_lexer": "ipython3",
   "version": "3.9.7"
  }
 },
 "nbformat": 4,
 "nbformat_minor": 5
}
